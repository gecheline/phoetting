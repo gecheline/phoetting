{
 "cells": [
  {
   "cell_type": "code",
   "execution_count": 1,
   "metadata": {},
   "outputs": [],
   "source": [
    "import numpy as np\n",
    "import matplotlib.pyplot as plt\n",
    "import phoebe\n",
    "import pickle\n",
    "import tqdm\n",
    "phoebe.interactive_checks_off()\n",
    "phoebe.interactive_constraints_off()"
   ]
  },
  {
   "cell_type": "code",
   "execution_count": 6,
   "metadata": {},
   "outputs": [
    {
     "name": "stdout",
     "output_type": "stream",
     "text": [
      "ce_noise_nonuis.py.out.progress               100%  404MB   8.8MB/s   00:46    \n",
      "ce_noise_wnuis.py.out.progress                100%  419MB   1.8MB/s   03:51    \n",
      "ce_noise_nogps.py.out.progress                100%  424MB   6.2MB/s   01:08    \n",
      "ce_noise_wgps.py.out.progress                 100%  501MB   8.7MB/s   00:57    \n"
     ]
    }
   ],
   "source": [
    "!scp angela@terra.villanova.edu:fitting/phoetting_paper/AAS_ellcbnd/ce_noise_nonuis.py.out.progress data/\n",
    "!scp angela@terra.villanova.edu:fitting/phoetting_paper/AAS_ellcbnd/ce_noise_wnuis.py.out.progress data/\n",
    "!scp angela@terra.villanova.edu:fitting/phoetting_paper/AAS_ellcbnd/ce_noise_nogps.py.out.progress data/\n",
    "!scp angela@terra.villanova.edu:fitting/phoetting_paper/AAS_ellcbnd/ce_noise_wgps.py.out.progress data/"
   ]
  },
  {
   "cell_type": "code",
   "execution_count": 7,
   "metadata": {},
   "outputs": [],
   "source": [
    "b_nuis = phoebe.load('data/ce_noise.bundle')\n",
    "b_gps = phoebe.load('data/ce_noise_corr.bundle')"
   ]
  },
  {
   "cell_type": "code",
   "execution_count": 8,
   "metadata": {},
   "outputs": [],
   "source": [
    "%matplotlib qt"
   ]
  },
  {
   "cell_type": "markdown",
   "metadata": {},
   "source": [
    "### gaussian noise - no nuisance param"
   ]
  },
  {
   "cell_type": "code",
   "execution_count": 9,
   "metadata": {},
   "outputs": [],
   "source": [
    "b_nuis.import_solution(r'data/ce_noise_nonuis.py.out.progress', solution='lc_progress_nonuis')\n",
    "afig, mplfig = b_nuis.plot(solution='lc_progress_nonuis', style='lnprobability', burnin=0, thin=1, lnprob_cutoff = -np.inf, s=0.005, show=True)\n",
    "# %matplotlib inline\n",
    "# afig, mplfig = b_nuis.plot(solution='lc_progress_nonuis', burnin=0, thin=1, lnprob_cutoff = -np.inf, s=0.005, show=True)"
   ]
  },
  {
   "cell_type": "markdown",
   "metadata": {},
   "source": [
    "### gaussian noise - with nuisance param"
   ]
  },
  {
   "cell_type": "code",
   "execution_count": 10,
   "metadata": {},
   "outputs": [],
   "source": [
    "b_nuis.import_solution(r'data/ce_noise_wnuis.py.out.progress', solution='lc_progress_wnuis')\n",
    "afig, mplfig = b_nuis.plot(solution='lc_progress_wnuis', style='lnprobability', burnin=0, thin=1, lnprob_cutoff = -np.inf, s=0.005, show=True)\n",
    "# %matplotlib inline\n",
    "# afig, mplfig = b_nuis.plot(solution='lc_progress_wnuis', burnin=0, thin=1, lnprob_cutoff = -np.inf, s=0.005, show=True)"
   ]
  },
  {
   "cell_type": "markdown",
   "metadata": {},
   "source": [
    "### correlated noise - no GPs"
   ]
  },
  {
   "cell_type": "code",
   "execution_count": 11,
   "metadata": {},
   "outputs": [],
   "source": [
    "b_gps.import_solution(r'data/ce_noise_nogps.py.out.progress', solution='lc_progress_nogps')\n",
    "afig, mplfig = b_gps.plot(solution='lc_progress_nogps', style='lnprobability', burnin=0, thin=1, lnprob_cutoff = -np.inf, s=0.005, show=True)\n",
    "# %matplotlib inline\n",
    "# afig, mplfig = b_gps.plot(solution='lc_progress_nogps', burnin=0, thin=1, lnprob_cutoff = -np.inf, s=0.005, show=True)"
   ]
  },
  {
   "cell_type": "markdown",
   "metadata": {},
   "source": [
    "### correlated noise - with GPs"
   ]
  },
  {
   "cell_type": "code",
   "execution_count": 12,
   "metadata": {},
   "outputs": [],
   "source": [
    "b_gps.import_solution(r'data/ce_noise_wgps.py.out.progress', solution='lc_progress_wgps')\n",
    "afig, mplfig = b_gps.plot(solution='lc_progress_wgps', style='lnprobability', burnin=0, thin=1, lnprob_cutoff = -np.inf, s=0.005, show=True)\n",
    "# %matplotlib inline\n",
    "# afig, mplfig = b_gps.plot(solution='lc_progress_wgps', burnin=0, thin=1, lnprob_cutoff = -np.inf, s=0.005, show=True)"
   ]
  },
  {
   "cell_type": "code",
   "execution_count": null,
   "metadata": {},
   "outputs": [],
   "source": []
  }
 ],
 "metadata": {
  "kernelspec": {
   "display_name": "Python 3",
   "language": "python",
   "name": "python3"
  },
  "language_info": {
   "codemirror_mode": {
    "name": "ipython",
    "version": 3
   },
   "file_extension": ".py",
   "mimetype": "text/x-python",
   "name": "python",
   "nbconvert_exporter": "python",
   "pygments_lexer": "ipython3",
   "version": "3.7.9"
  }
 },
 "nbformat": 4,
 "nbformat_minor": 4
}
