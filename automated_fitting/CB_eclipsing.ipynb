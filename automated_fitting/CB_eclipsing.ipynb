{
 "cells": [
  {
   "cell_type": "code",
   "execution_count": 1,
   "metadata": {},
   "outputs": [],
   "source": [
    "import numpy as np\n",
    "import matplotlib.pyplot as plt\n",
    "import phoebe\n",
    "from IPython.display import display, Math\n",
    "phoebe.interactive_checks_off()\n",
    "phoebe.interactive_constraints_off()"
   ]
  },
  {
   "cell_type": "code",
   "execution_count": 2,
   "metadata": {},
   "outputs": [],
   "source": [
    "params = {'period@binary': 0.3,\n",
    "'t0_supconj': 0.23,\n",
    "'mass@primary': 1.21,\n",
    "'mass@secondary': 0.64,\n",
    "'requiv@primary': 1.092,\n",
    "# 'requiv@secondary': 0.8,\n",
    "'teff@primary': 6300,\n",
    "'teff@secondary': 6300,\n",
    "'incl@binary': 85.751,\n",
    "'ecc': 0.,\n",
    "'per0': 45,\n",
    "'pblum': 15.024,\n",
    "'l3': 0.0}"
   ]
  },
  {
   "cell_type": "code",
   "execution_count": 3,
   "metadata": {},
   "outputs": [],
   "source": [
    "np.random.seed(0)\n",
    "times = np.random.uniform(0.0, 25, 500)\n",
    "times.sort()"
   ]
  },
  {
   "cell_type": "code",
   "execution_count": 4,
   "metadata": {},
   "outputs": [
    {
     "data": {
      "text/plain": [
       "<ConstraintParameter: {sma@binary@component} = (((({mass@primary@component} * ({period@binary@component} ** 2.000000)) * (1.000000 + {q@binary@component})) * 2942.206217504419328179210424423218) / 39.478418) ** (1./3) (solar units) => 3.3499999999999996 solRad>"
      ]
     },
     "execution_count": 4,
     "metadata": {},
     "output_type": "execute_result"
    }
   ],
   "source": [
    "b = phoebe.default_binary(contact_binary=True, force_build=True)\n",
    "b.add_dataset('lc', times = times)\n",
    "b.flip_constraint('mass@secondary', solve_for='q')\n",
    "b.flip_constraint('mass@primary', solve_for='sma@binary')"
   ]
  },
  {
   "cell_type": "code",
   "execution_count": 5,
   "metadata": {},
   "outputs": [
    {
     "data": {
      "text/plain": [
       "<RunChecksReport 0 items: status=PASS>"
      ]
     },
     "execution_count": 5,
     "metadata": {},
     "output_type": "execute_result"
    }
   ],
   "source": [
    "for twig in params.keys():\n",
    "    b[twig] = params[twig]\n",
    "b.run_delayed_constraints()\n",
    "b.run_checks()"
   ]
  },
  {
   "cell_type": "code",
   "execution_count": 6,
   "metadata": {},
   "outputs": [
    {
     "name": "stderr",
     "output_type": "stream",
     "text": [
      "100%|██████████| 1/1 [00:00<00:00,  1.52it/s]\n"
     ]
    },
    {
     "data": {
      "text/plain": [
       "<ParameterSet: 3 parameters | qualifiers: comments, times, fluxes>"
      ]
     },
     "execution_count": 6,
     "metadata": {},
     "output_type": "execute_result"
    }
   ],
   "source": [
    "b.add_compute('legacy', compute='legacybnd')\n",
    "b.set_value_all('ld_mode*', 'lookup')\n",
    "b.run_compute(compute='legacybnd')"
   ]
  },
  {
   "cell_type": "code",
   "execution_count": 7,
   "metadata": {},
   "outputs": [
    {
     "data": {
      "image/png": "[encoded data removed]",
      "text/plain": [
       "<Figure size 576x432 with 1 Axes>"
      ]
     },
     "metadata": {
      "needs_background": "light"
     },
     "output_type": "display_data"
    },
    {
     "data": {
      "text/plain": [
       "(<autofig.figure.Figure | 1 axes | 1 call(s)>,\n",
       " <Figure size 576x432 with 1 Axes>)"
      ]
     },
     "execution_count": 7,
     "metadata": {},
     "output_type": "execute_result"
    }
   ],
   "source": [
    "%matplotlib inline\n",
    "b.plot(x='phase', s=0.01,  marker='.', legend=True, show=True)"
   ]
  },
  {
   "cell_type": "code",
   "execution_count": 8,
   "metadata": {},
   "outputs": [],
   "source": [
    "times = b['value@times@model']\n",
    "# add small gaussian noise to the fluxes\n",
    "sigma = 0.001\n",
    "np.random.seed(2)\n",
    "fluxes = b['value@fluxes@model'] + np.random.normal(0,sigma,len(times))\n",
    "sigmas = np.full_like(fluxes, sigma)\n",
    "np.savetxt('data/cb.lc', np.array([times, fluxes, sigmas]).T)"
   ]
  },
  {
   "cell_type": "code",
   "execution_count": 9,
   "metadata": {},
   "outputs": [
    {
     "data": {
      "text/plain": [
       "'data/cb.bundle'"
      ]
     },
     "execution_count": 9,
     "metadata": {},
     "output_type": "execute_result"
    }
   ],
   "source": [
    "b.save('data/cb.bundle')"
   ]
  },
  {
   "cell_type": "code",
   "execution_count": null,
   "metadata": {},
   "outputs": [],
   "source": []
  }
 ],
 "metadata": {
  "kernelspec": {
   "display_name": "Python 3",
   "language": "python",
   "name": "python3"
  },
  "language_info": {
   "codemirror_mode": {
    "name": "ipython",
    "version": 3
   },
   "file_extension": ".py",
   "mimetype": "text/x-python",
   "name": "python",
   "nbconvert_exporter": "python",
   "pygments_lexer": "ipython3",
   "version": "3.7.9"
  }
 },
 "nbformat": 4,
 "nbformat_minor": 4
}
